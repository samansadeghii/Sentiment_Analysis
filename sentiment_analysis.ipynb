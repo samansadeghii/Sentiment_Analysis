{
  "nbformat": 4,
  "nbformat_minor": 0,
  "metadata": {
    "colab": {
      "provenance": [],
      "authorship_tag": "ABX9TyNLzZRk7Uz1hDLPrJ2YNk+G",
      "include_colab_link": true
    },
    "kernelspec": {
      "name": "python3",
      "display_name": "Python 3"
    },
    "language_info": {
      "name": "python"
    }
  },
  "cells": [
    {
      "cell_type": "markdown",
      "metadata": {
        "id": "view-in-github",
        "colab_type": "text"
      },
      "source": [
        "<a href=\"https://colab.research.google.com/github/samansadeghii/Sentiment_Analysis/blob/main/sentiment_analysis.ipynb\" target=\"_parent\"><img src=\"https://colab.research.google.com/assets/colab-badge.svg\" alt=\"Open In Colab\"/></a>"
      ]
    },
    {
      "cell_type": "code",
      "execution_count": 1,
      "metadata": {
        "colab": {
          "base_uri": "https://localhost:8080/"
        },
        "id": "MF9kf9w9VwIg",
        "outputId": "26fc2d3b-bbae-47f0-cbfd-fbda9dbb7a74"
      },
      "outputs": [
        {
          "output_type": "stream",
          "name": "stdout",
          "text": [
            "tar: spark-3.4.1-bin-hadoop3.tgz: Cannot open: No such file or directory\n",
            "tar: Error is not recoverable: exiting now\n"
          ]
        }
      ],
      "source": [
        "\n",
        "!apt-get install openjdk-11-jdk-headless -qq > /dev/null\n",
        "!wget -q https://downloads.apache.org/spark/spark-3.4.1/spark-3.4.1-bin-hadoop3.tgz\n",
        "!tar xf spark-3.4.1-bin-hadoop3.tgz\n",
        "!pip install -q findspark\n"
      ]
    },
    {
      "cell_type": "code",
      "source": [
        "!apt-get install openjdk-11-jdk-headless -qq > /dev/null\n",
        "!wget -q https://downloads.apache.org/spark/spark-3.4.1/spark-3.4.1-bin-hadoop3.tgz\n",
        "!tar xf spark-3.4.1-bin-hadoop3.tgz\n",
        "!pip install -q findspark\n"
      ],
      "metadata": {
        "colab": {
          "base_uri": "https://localhost:8080/"
        },
        "id": "QXOQnkEOXSiC",
        "outputId": "a2d610c9-19d6-401d-f55a-974e0a10b185"
      },
      "execution_count": 2,
      "outputs": [
        {
          "output_type": "stream",
          "name": "stdout",
          "text": [
            "tar: spark-3.4.1-bin-hadoop3.tgz: Cannot open: No such file or directory\n",
            "tar: Error is not recoverable: exiting now\n"
          ]
        }
      ]
    },
    {
      "cell_type": "code",
      "source": [
        "import os\n",
        "os.environ[\"JAVA_HOME\"] = \"/usr/lib/jvm/java-11-openjdk-amd64\"\n",
        "os.environ[\"SPARK_HOME\"] = \"/content/spark-3.4.1-bin-hadoop3\"\n"
      ],
      "metadata": {
        "id": "yv408EU5XX84"
      },
      "execution_count": null,
      "outputs": []
    },
    {
      "cell_type": "code",
      "source": [
        "!wget -q https://archive.apache.org/dist/spark/spark-3.4.1/spark-3.4.1-bin-hadoop3.tgz\n"
      ],
      "metadata": {
        "id": "Omol83B1ZIwW"
      },
      "execution_count": null,
      "outputs": []
    },
    {
      "cell_type": "code",
      "source": [
        "import os\n",
        "os.environ[\"JAVA_HOME\"] = \"/usr/lib/jvm/java-11-openjdk-amd64\"\n",
        "os.environ[\"SPARK_HOME\"] = \"/content/spark-3.4.1-bin-hadoop3\"\n"
      ],
      "metadata": {
        "id": "7oM0ZG7aZjx0"
      },
      "execution_count": null,
      "outputs": []
    },
    {
      "cell_type": "code",
      "source": [
        "!apt-get install openjdk-11-jdk-headless -qq > /dev/null\n",
        "!wget -q https://archive.apache.org/dist/spark/spark-3.4.1/spark-3.4.1-bin-hadoop3.tgz\n",
        "!tar xf spark-3.4.1-bin-hadoop3.tgz\n",
        "!pip install -q findspark\n"
      ],
      "metadata": {
        "id": "h7AOtD_VaaJB"
      },
      "execution_count": null,
      "outputs": []
    },
    {
      "cell_type": "code",
      "source": [
        "!ls /content/spark-3.4.1-bin-hadoop3/python/lib/\n"
      ],
      "metadata": {
        "colab": {
          "base_uri": "https://localhost:8080/"
        },
        "id": "4uuFUQuMamh5",
        "outputId": "d54798c0-8504-4096-ebaa-88d9b85bc082"
      },
      "execution_count": null,
      "outputs": [
        {
          "output_type": "stream",
          "name": "stdout",
          "text": [
            "py4j-0.10.9.7-src.zip  PY4J_LICENSE.txt  pyspark.zip\n"
          ]
        }
      ]
    },
    {
      "cell_type": "code",
      "source": [
        "import os\n",
        "os.environ[\"JAVA_HOME\"] = \"/usr/lib/jvm/java-11-openjdk-amd64\"\n",
        "os.environ[\"SPARK_HOME\"] = \"/content/spark-3.4.1-bin-hadoop3\"\n"
      ],
      "metadata": {
        "id": "DWDSWQ_Dazi5"
      },
      "execution_count": null,
      "outputs": []
    },
    {
      "cell_type": "code",
      "source": [
        "import findspark\n",
        "findspark.init()\n"
      ],
      "metadata": {
        "id": "jB5E-V2da3MA"
      },
      "execution_count": null,
      "outputs": []
    },
    {
      "cell_type": "code",
      "source": [
        "from pyspark.sql import SparkSession\n",
        "spark = SparkSession.builder.master(\"local[*]\").appName(\"SentimentAnalysis\").getOrCreate()\n"
      ],
      "metadata": {
        "id": "RDPIMDw4bB-W"
      },
      "execution_count": null,
      "outputs": []
    },
    {
      "cell_type": "code",
      "source": [
        "from google.colab import files\n",
        "uploaded = files.upload()\n"
      ],
      "metadata": {
        "colab": {
          "base_uri": "https://localhost:8080/",
          "height": 73
        },
        "id": "KK2IIxSobhyq",
        "outputId": "b3f4d536-d756-49b9-d5c8-3d145934442e"
      },
      "execution_count": null,
      "outputs": [
        {
          "output_type": "display_data",
          "data": {
            "text/plain": [
              "<IPython.core.display.HTML object>"
            ],
            "text/html": [
              "\n",
              "     <input type=\"file\" id=\"files-5017af42-8a8b-4488-a8f0-ee8888255f87\" name=\"files[]\" multiple disabled\n",
              "        style=\"border:none\" />\n",
              "     <output id=\"result-5017af42-8a8b-4488-a8f0-ee8888255f87\">\n",
              "      Upload widget is only available when the cell has been executed in the\n",
              "      current browser session. Please rerun this cell to enable.\n",
              "      </output>\n",
              "      <script>// Copyright 2017 Google LLC\n",
              "//\n",
              "// Licensed under the Apache License, Version 2.0 (the \"License\");\n",
              "// you may not use this file except in compliance with the License.\n",
              "// You may obtain a copy of the License at\n",
              "//\n",
              "//      http://www.apache.org/licenses/LICENSE-2.0\n",
              "//\n",
              "// Unless required by applicable law or agreed to in writing, software\n",
              "// distributed under the License is distributed on an \"AS IS\" BASIS,\n",
              "// WITHOUT WARRANTIES OR CONDITIONS OF ANY KIND, either express or implied.\n",
              "// See the License for the specific language governing permissions and\n",
              "// limitations under the License.\n",
              "\n",
              "/**\n",
              " * @fileoverview Helpers for google.colab Python module.\n",
              " */\n",
              "(function(scope) {\n",
              "function span(text, styleAttributes = {}) {\n",
              "  const element = document.createElement('span');\n",
              "  element.textContent = text;\n",
              "  for (const key of Object.keys(styleAttributes)) {\n",
              "    element.style[key] = styleAttributes[key];\n",
              "  }\n",
              "  return element;\n",
              "}\n",
              "\n",
              "// Max number of bytes which will be uploaded at a time.\n",
              "const MAX_PAYLOAD_SIZE = 100 * 1024;\n",
              "\n",
              "function _uploadFiles(inputId, outputId) {\n",
              "  const steps = uploadFilesStep(inputId, outputId);\n",
              "  const outputElement = document.getElementById(outputId);\n",
              "  // Cache steps on the outputElement to make it available for the next call\n",
              "  // to uploadFilesContinue from Python.\n",
              "  outputElement.steps = steps;\n",
              "\n",
              "  return _uploadFilesContinue(outputId);\n",
              "}\n",
              "\n",
              "// This is roughly an async generator (not supported in the browser yet),\n",
              "// where there are multiple asynchronous steps and the Python side is going\n",
              "// to poll for completion of each step.\n",
              "// This uses a Promise to block the python side on completion of each step,\n",
              "// then passes the result of the previous step as the input to the next step.\n",
              "function _uploadFilesContinue(outputId) {\n",
              "  const outputElement = document.getElementById(outputId);\n",
              "  const steps = outputElement.steps;\n",
              "\n",
              "  const next = steps.next(outputElement.lastPromiseValue);\n",
              "  return Promise.resolve(next.value.promise).then((value) => {\n",
              "    // Cache the last promise value to make it available to the next\n",
              "    // step of the generator.\n",
              "    outputElement.lastPromiseValue = value;\n",
              "    return next.value.response;\n",
              "  });\n",
              "}\n",
              "\n",
              "/**\n",
              " * Generator function which is called between each async step of the upload\n",
              " * process.\n",
              " * @param {string} inputId Element ID of the input file picker element.\n",
              " * @param {string} outputId Element ID of the output display.\n",
              " * @return {!Iterable<!Object>} Iterable of next steps.\n",
              " */\n",
              "function* uploadFilesStep(inputId, outputId) {\n",
              "  const inputElement = document.getElementById(inputId);\n",
              "  inputElement.disabled = false;\n",
              "\n",
              "  const outputElement = document.getElementById(outputId);\n",
              "  outputElement.innerHTML = '';\n",
              "\n",
              "  const pickedPromise = new Promise((resolve) => {\n",
              "    inputElement.addEventListener('change', (e) => {\n",
              "      resolve(e.target.files);\n",
              "    });\n",
              "  });\n",
              "\n",
              "  const cancel = document.createElement('button');\n",
              "  inputElement.parentElement.appendChild(cancel);\n",
              "  cancel.textContent = 'Cancel upload';\n",
              "  const cancelPromise = new Promise((resolve) => {\n",
              "    cancel.onclick = () => {\n",
              "      resolve(null);\n",
              "    };\n",
              "  });\n",
              "\n",
              "  // Wait for the user to pick the files.\n",
              "  const files = yield {\n",
              "    promise: Promise.race([pickedPromise, cancelPromise]),\n",
              "    response: {\n",
              "      action: 'starting',\n",
              "    }\n",
              "  };\n",
              "\n",
              "  cancel.remove();\n",
              "\n",
              "  // Disable the input element since further picks are not allowed.\n",
              "  inputElement.disabled = true;\n",
              "\n",
              "  if (!files) {\n",
              "    return {\n",
              "      response: {\n",
              "        action: 'complete',\n",
              "      }\n",
              "    };\n",
              "  }\n",
              "\n",
              "  for (const file of files) {\n",
              "    const li = document.createElement('li');\n",
              "    li.append(span(file.name, {fontWeight: 'bold'}));\n",
              "    li.append(span(\n",
              "        `(${file.type || 'n/a'}) - ${file.size} bytes, ` +\n",
              "        `last modified: ${\n",
              "            file.lastModifiedDate ? file.lastModifiedDate.toLocaleDateString() :\n",
              "                                    'n/a'} - `));\n",
              "    const percent = span('0% done');\n",
              "    li.appendChild(percent);\n",
              "\n",
              "    outputElement.appendChild(li);\n",
              "\n",
              "    const fileDataPromise = new Promise((resolve) => {\n",
              "      const reader = new FileReader();\n",
              "      reader.onload = (e) => {\n",
              "        resolve(e.target.result);\n",
              "      };\n",
              "      reader.readAsArrayBuffer(file);\n",
              "    });\n",
              "    // Wait for the data to be ready.\n",
              "    let fileData = yield {\n",
              "      promise: fileDataPromise,\n",
              "      response: {\n",
              "        action: 'continue',\n",
              "      }\n",
              "    };\n",
              "\n",
              "    // Use a chunked sending to avoid message size limits. See b/62115660.\n",
              "    let position = 0;\n",
              "    do {\n",
              "      const length = Math.min(fileData.byteLength - position, MAX_PAYLOAD_SIZE);\n",
              "      const chunk = new Uint8Array(fileData, position, length);\n",
              "      position += length;\n",
              "\n",
              "      const base64 = btoa(String.fromCharCode.apply(null, chunk));\n",
              "      yield {\n",
              "        response: {\n",
              "          action: 'append',\n",
              "          file: file.name,\n",
              "          data: base64,\n",
              "        },\n",
              "      };\n",
              "\n",
              "      let percentDone = fileData.byteLength === 0 ?\n",
              "          100 :\n",
              "          Math.round((position / fileData.byteLength) * 100);\n",
              "      percent.textContent = `${percentDone}% done`;\n",
              "\n",
              "    } while (position < fileData.byteLength);\n",
              "  }\n",
              "\n",
              "  // All done.\n",
              "  yield {\n",
              "    response: {\n",
              "      action: 'complete',\n",
              "    }\n",
              "  };\n",
              "}\n",
              "\n",
              "scope.google = scope.google || {};\n",
              "scope.google.colab = scope.google.colab || {};\n",
              "scope.google.colab._files = {\n",
              "  _uploadFiles,\n",
              "  _uploadFilesContinue,\n",
              "};\n",
              "})(self);\n",
              "</script> "
            ]
          },
          "metadata": {}
        },
        {
          "output_type": "stream",
          "name": "stdout",
          "text": [
            "Saving training.1600000.processed.noemoticon.csv to training.1600000.processed.noemoticon.csv\n"
          ]
        }
      ]
    },
    {
      "cell_type": "code",
      "source": [
        "file_path = \"/content/training.1600000.processed.noemoticon.csv\"\n",
        "df = spark.read.csv(file_path, encoding='latin1', header=False)\n",
        "df.show(5)\n"
      ],
      "metadata": {
        "colab": {
          "base_uri": "https://localhost:8080/"
        },
        "id": "WKOA4imhmobJ",
        "outputId": "e07831c2-1e97-4f37-cbce-72466bcd6e88"
      },
      "execution_count": null,
      "outputs": [
        {
          "output_type": "stream",
          "name": "stdout",
          "text": [
            "+---+----------+--------------------+--------+---------------+--------------------+\n",
            "|_c0|       _c1|                 _c2|     _c3|            _c4|                 _c5|\n",
            "+---+----------+--------------------+--------+---------------+--------------------+\n",
            "|  0|1467810369|Mon Apr 06 22:19:...|NO_QUERY|_TheSpecialOne_|@switchfoot http:...|\n",
            "|  0|1467810672|Mon Apr 06 22:19:...|NO_QUERY|  scotthamilton|is upset that he ...|\n",
            "|  0|1467810917|Mon Apr 06 22:19:...|NO_QUERY|       mattycus|@Kenichan I dived...|\n",
            "|  0|1467811184|Mon Apr 06 22:19:...|NO_QUERY|        ElleCTF|my whole body fee...|\n",
            "|  0|1467811193|Mon Apr 06 22:19:...|NO_QUERY|         Karoli|@nationwideclass ...|\n",
            "+---+----------+--------------------+--------+---------------+--------------------+\n",
            "only showing top 5 rows\n",
            "\n"
          ]
        }
      ]
    },
    {
      "cell_type": "code",
      "source": [
        "from pyspark.sql.functions import col\n",
        "\n",
        "df = df.select(\n",
        "    col(\"_c0\").alias(\"label\"),\n",
        "    col(\"_c5\").alias(\"tweet\")\n",
        ")\n",
        "df.show(5)\n"
      ],
      "metadata": {
        "colab": {
          "base_uri": "https://localhost:8080/"
        },
        "id": "oQh9dh5jnSR_",
        "outputId": "945d3f92-9d05-4257-81bb-c1d88d2ec22b"
      },
      "execution_count": null,
      "outputs": [
        {
          "output_type": "stream",
          "name": "stdout",
          "text": [
            "+-----+--------------------+\n",
            "|label|               tweet|\n",
            "+-----+--------------------+\n",
            "|    0|@switchfoot http:...|\n",
            "|    0|is upset that he ...|\n",
            "|    0|@Kenichan I dived...|\n",
            "|    0|my whole body fee...|\n",
            "|    0|@nationwideclass ...|\n",
            "+-----+--------------------+\n",
            "only showing top 5 rows\n",
            "\n"
          ]
        }
      ]
    },
    {
      "cell_type": "code",
      "source": [
        "from pyspark.sql.functions import regexp_replace, lower\n",
        "\n",
        "\n",
        "df_clean = df.withColumn('tweet', regexp_replace('tweet', r'@\\w+', ''))\n",
        "df_clean = df_clean.withColumn('tweet', regexp_replace('tweet', r'http\\S+', ''))\n",
        "df_clean = df_clean.withColumn('tweet', regexp_replace('tweet', r'[^a-zA-Z\\s]', ''))\n",
        "df_clean = df_clean.withColumn('tweet', lower('tweet'))\n",
        "\n",
        "df_clean.show(5, truncate=False)\n"
      ],
      "metadata": {
        "colab": {
          "base_uri": "https://localhost:8080/"
        },
        "id": "FfXe5DXrnzj_",
        "outputId": "af9fa9d0-a473-468c-e7e0-29d711ddfe4c"
      },
      "execution_count": null,
      "outputs": [
        {
          "output_type": "stream",
          "name": "stdout",
          "text": [
            "+-----+---------------------------------------------------------------------------------------------------------+\n",
            "|label|tweet                                                                                                    |\n",
            "+-----+---------------------------------------------------------------------------------------------------------+\n",
            "|0    |   awww thats a bummer  you shoulda got david carr of third day to do it d                               |\n",
            "|0    |is upset that he cant update his facebook by texting it and might cry as a result  school today also blah|\n",
            "|0    | i dived many times for the ball managed to save   the rest go out of bounds                             |\n",
            "|0    |my whole body feels itchy and like its on fire                                                           |\n",
            "|0    | no its not behaving at all im mad why am i here because i cant see you all over there                   |\n",
            "+-----+---------------------------------------------------------------------------------------------------------+\n",
            "only showing top 5 rows\n",
            "\n"
          ]
        }
      ]
    },
    {
      "cell_type": "code",
      "source": [
        "df_clean = df_clean.filter(df_clean['tweet'] != '')\n",
        "df_clean = df_clean.filter(df_clean['tweet'].isNotNull())\n",
        "df_clean = df_clean.filter(df_clean['tweet'].rlike(r'\\w{3,}'))\n",
        "\n",
        "df_clean.show(5, truncate=False)\n"
      ],
      "metadata": {
        "colab": {
          "base_uri": "https://localhost:8080/"
        },
        "id": "f2l0SZ2un73P",
        "outputId": "1f690a37-e2c2-44ca-92ed-5e152cad7472"
      },
      "execution_count": null,
      "outputs": [
        {
          "output_type": "stream",
          "name": "stdout",
          "text": [
            "+-----+---------------------------------------------------------------------------------------------------------+\n",
            "|label|tweet                                                                                                    |\n",
            "+-----+---------------------------------------------------------------------------------------------------------+\n",
            "|0    |   awww thats a bummer  you shoulda got david carr of third day to do it d                               |\n",
            "|0    |is upset that he cant update his facebook by texting it and might cry as a result  school today also blah|\n",
            "|0    | i dived many times for the ball managed to save   the rest go out of bounds                             |\n",
            "|0    |my whole body feels itchy and like its on fire                                                           |\n",
            "|0    | no its not behaving at all im mad why am i here because i cant see you all over there                   |\n",
            "+-----+---------------------------------------------------------------------------------------------------------+\n",
            "only showing top 5 rows\n",
            "\n"
          ]
        }
      ]
    },
    {
      "cell_type": "code",
      "source": [
        "positive_words = [\"good\", \"great\", \"happy\", \"love\", \"excellent\", \"best\", \"fantastic\", \"like\", \"enjoy\", \"awesome\"]\n",
        "negative_words = [\"bad\", \"sad\", \"hate\", \"terrible\", \"awful\", \"worst\", \"angry\", \"dislike\", \"horrible\", \"problem\"]\n"
      ],
      "metadata": {
        "id": "2vSJWwobod_s"
      },
      "execution_count": null,
      "outputs": []
    },
    {
      "cell_type": "code",
      "source": [
        "pos_broadcast = spark.sparkContext.broadcast(positive_words)\n",
        "neg_broadcast = spark.sparkContext.broadcast(negative_words)\n"
      ],
      "metadata": {
        "id": "xoHSYWCEogPe"
      },
      "execution_count": null,
      "outputs": []
    },
    {
      "cell_type": "code",
      "source": [
        "from pyspark.sql.functions import udf\n",
        "from pyspark.sql.types import IntegerType\n",
        "\n",
        "def sentiment_score(text):\n",
        "    pos = sum(word in text.split() for word in pos_broadcast.value)\n",
        "    neg = sum(word in text.split() for word in neg_broadcast.value)\n",
        "    return 1 if pos > neg else 0\n",
        "\n",
        "sentiment_udf = udf(sentiment_score, IntegerType())\n"
      ],
      "metadata": {
        "id": "ugJWmXcZo13G"
      },
      "execution_count": null,
      "outputs": []
    },
    {
      "cell_type": "code",
      "source": [
        "df_final = df_clean.withColumn(\"predicted_sentiment\", sentiment_udf(\"tweet\"))\n",
        "df_final.select(\"tweet\", \"label\", \"predicted_sentiment\").show(10, truncate=False)\n"
      ],
      "metadata": {
        "colab": {
          "base_uri": "https://localhost:8080/"
        },
        "id": "COFCz1RCo9WQ",
        "outputId": "ee68cf7c-e649-4eff-ec81-4b6dc4da1380"
      },
      "execution_count": null,
      "outputs": [
        {
          "output_type": "stream",
          "name": "stdout",
          "text": [
            "+---------------------------------------------------------------------------------------------------------+-----+-------------------+\n",
            "|tweet                                                                                                    |label|predicted_sentiment|\n",
            "+---------------------------------------------------------------------------------------------------------+-----+-------------------+\n",
            "|   awww thats a bummer  you shoulda got david carr of third day to do it d                               |0    |0                  |\n",
            "|is upset that he cant update his facebook by texting it and might cry as a result  school today also blah|0    |0                  |\n",
            "| i dived many times for the ball managed to save   the rest go out of bounds                             |0    |0                  |\n",
            "|my whole body feels itchy and like its on fire                                                           |0    |1                  |\n",
            "| no its not behaving at all im mad why am i here because i cant see you all over there                   |0    |0                  |\n",
            "| not the whole crew                                                                                      |0    |0                  |\n",
            "|need a hug                                                                                               |0    |0                  |\n",
            "| hey  long time no see yes rains a bit only a bit  lol  im fine thanks  hows you                         |0    |0                  |\n",
            "| nope they didnt have it                                                                                 |0    |0                  |\n",
            "| que me muera                                                                                            |0    |0                  |\n",
            "+---------------------------------------------------------------------------------------------------------+-----+-------------------+\n",
            "only showing top 10 rows\n",
            "\n"
          ]
        }
      ]
    },
    {
      "cell_type": "code",
      "source": [
        "from pyspark.sql.functions import col\n",
        "\n",
        "\n",
        "df_final = df_final.withColumn(\"label_binary\", (col(\"label\") == 4).cast(\"integer\"))\n",
        "\n",
        "accuracy = df_final.filter(col(\"label_binary\") == col(\"predicted_sentiment\")).count() / df_final.count()\n",
        "print(\"Accuracy:\", accuracy)\n"
      ],
      "metadata": {
        "colab": {
          "base_uri": "https://localhost:8080/"
        },
        "id": "tt2RQ9LJpQWb",
        "outputId": "f5833a45-dcfc-4bf3-abc0-f87995d03fef"
      },
      "execution_count": null,
      "outputs": [
        {
          "output_type": "stream",
          "name": "stdout",
          "text": [
            "Accuracy: 0.5615803597790199\n"
          ]
        }
      ]
    },
    {
      "cell_type": "code",
      "source": [
        "sentiment_counts = df_final.groupBy(\"predicted_sentiment\").count().toPandas()\n",
        "\n",
        "import matplotlib.pyplot as plt\n",
        "\n",
        "plt.bar(sentiment_counts[\"predicted_sentiment\"], sentiment_counts[\"count\"])\n",
        "plt.xticks([0, 1], ['Negative', 'Positive'])\n",
        "plt.xlabel(\"Sentiment\")\n",
        "plt.ylabel(\"Count\")\n",
        "plt.title(\"Distribution of Predicted Sentiments\")\n",
        "plt.show()\n"
      ],
      "metadata": {
        "colab": {
          "base_uri": "https://localhost:8080/",
          "height": 472
        },
        "id": "VQHPoQo4qcJd",
        "outputId": "936f682a-3d17-44e3-bb9c-9739e1fed5b4"
      },
      "execution_count": null,
      "outputs": [
        {
          "output_type": "display_data",
          "data": {
            "text/plain": [
              "<Figure size 640x480 with 1 Axes>"
            ],
            "image/png": "[encoded data removed]"
          },
          "metadata": {}
        }
      ]
    },
    {
      "cell_type": "code",
      "source": [
        "from pyspark.sql.functions import col\n",
        "\n",
        "total_positive = df_final.filter(col(\"label_binary\") == 1).count()\n",
        "total_negative = df_final.filter(col(\"label_binary\") == 0).count()\n",
        "correct_positive = df_final.filter((col(\"label_binary\") == 1) & (col(\"predicted_sentiment\") == 1)).count()\n",
        "correct_negative = df_final.filter((col(\"label_binary\") == 0) & (col(\"predicted_sentiment\") == 0)).count()\n",
        "\n",
        "print(\"Accuracy for Positive Tweets:\", correct_positive / total_positive)\n",
        "print(\"Accuracy for Negative Tweets:\", correct_negative / total_negative)\n"
      ],
      "metadata": {
        "colab": {
          "base_uri": "https://localhost:8080/"
        },
        "id": "CtoIkuBYrCtM",
        "outputId": "745f6182-8696-4f20-d098-f90b0bbc42ef"
      },
      "execution_count": null,
      "outputs": [
        {
          "output_type": "stream",
          "name": "stdout",
          "text": [
            "Accuracy for Positive Tweets: 0.23851696902660416\n",
            "Accuracy for Negative Tweets: 0.8844538473397062\n"
          ]
        }
      ]
    },
    {
      "cell_type": "code",
      "source": [
        "df_final.filter(col(\"label_binary\") != col(\"predicted_sentiment\")) \\\n",
        "    .select(\"tweet\", \"label_binary\", \"predicted_sentiment\") \\\n",
        "    .show(10, truncate=False)\n"
      ],
      "metadata": {
        "colab": {
          "base_uri": "https://localhost:8080/"
        },
        "id": "o0allFB_sHRS",
        "outputId": "3a2e8b1f-4a4e-4d9d-ac72-754e1397115e"
      },
      "execution_count": null,
      "outputs": [
        {
          "output_type": "stream",
          "name": "stdout",
          "text": [
            "+---------------------------------------------------------------------------------------------------------------------------------------+------------+-------------------+\n",
            "|tweet                                                                                                                                  |label_binary|predicted_sentiment|\n",
            "+---------------------------------------------------------------------------------------------------------------------------------------+------------+-------------------+\n",
            "|my whole body feels itchy and like its on fire                                                                                         |0           |1                  |\n",
            "| ahh ive always wanted to see rent  love the soundtrack                                                                                |0           |1                  |\n",
            "| awe i love you too  am here  i miss you                                                                                               |0           |1                  |\n",
            "|ok im sick and spent an hour sitting in the shower cause i was too sick to stand and held back the puke like a champ bed now           |0           |1                  |\n",
            "| ill tell ya the story later  not a good day and ill be workin for like three more hours                                               |0           |1                  |\n",
            "|really dont feel like getting up today but got to study to for tomorrows practical exam                                                |0           |1                  |\n",
            "| yay im happy for you with your job but that also means less time for me and you                                                       |0           |1                  |\n",
            "|just checked my user timeline on my blackberry it looks like the twanking is still happening  are ppl still having probs w bgs and uids|0           |1                  |\n",
            "|no picnic  my phone smells like citrus                                                                                                 |0           |1                  |\n",
            "|wonders why someone that u like so much can make you so unhappy in a split seccond  depressed                                          |0           |1                  |\n",
            "+---------------------------------------------------------------------------------------------------------------------------------------+------------+-------------------+\n",
            "only showing top 10 rows\n",
            "\n"
          ]
        }
      ]
    },
    {
      "cell_type": "code",
      "source": [
        "\n",
        "positive_words += [\"amazing\", \"enjoyed\", \"wonderful\"]\n",
        "negative_words += [\"boring\", \"disappointed\", \"annoyed\"]\n",
        "\n"
      ],
      "metadata": {
        "id": "ToRgmQ09sQ-1"
      },
      "execution_count": null,
      "outputs": []
    },
    {
      "cell_type": "code",
      "source": [
        "df_final.limit(1000).toPandas().to_csv(\"sentiment_results_sample.csv\", index=False)\n",
        "from google.colab import files\n",
        "files.download(\"sentiment_results_sample.csv\")\n"
      ],
      "metadata": {
        "colab": {
          "base_uri": "https://localhost:8080/",
          "height": 17
        },
        "id": "T21AkHCKsadM",
        "outputId": "223dfe87-3ac7-46a7-b37a-2d29b9ff7d89"
      },
      "execution_count": null,
      "outputs": [
        {
          "output_type": "display_data",
          "data": {
            "text/plain": [
              "<IPython.core.display.Javascript object>"
            ],
            "application/javascript": [
              "\n",
              "    async function download(id, filename, size) {\n",
              "      if (!google.colab.kernel.accessAllowed) {\n",
              "        return;\n",
              "      }\n",
              "      const div = document.createElement('div');\n",
              "      const label = document.createElement('label');\n",
              "      label.textContent = `Downloading \"${filename}\": `;\n",
              "      div.appendChild(label);\n",
              "      const progress = document.createElement('progress');\n",
              "      progress.max = size;\n",
              "      div.appendChild(progress);\n",
              "      document.body.appendChild(div);\n",
              "\n",
              "      const buffers = [];\n",
              "      let downloaded = 0;\n",
              "\n",
              "      const channel = await google.colab.kernel.comms.open(id);\n",
              "      // Send a message to notify the kernel that we're ready.\n",
              "      channel.send({})\n",
              "\n",
              "      for await (const message of channel.messages) {\n",
              "        // Send a message to notify the kernel that we're ready.\n",
              "        channel.send({})\n",
              "        if (message.buffers) {\n",
              "          for (const buffer of message.buffers) {\n",
              "            buffers.push(buffer);\n",
              "            downloaded += buffer.byteLength;\n",
              "            progress.value = downloaded;\n",
              "          }\n",
              "        }\n",
              "      }\n",
              "      const blob = new Blob(buffers, {type: 'application/binary'});\n",
              "      const a = document.createElement('a');\n",
              "      a.href = window.URL.createObjectURL(blob);\n",
              "      a.download = filename;\n",
              "      div.appendChild(a);\n",
              "      a.click();\n",
              "      div.remove();\n",
              "    }\n",
              "  "
            ]
          },
          "metadata": {}
        },
        {
          "output_type": "display_data",
          "data": {
            "text/plain": [
              "<IPython.core.display.Javascript object>"
            ],
            "application/javascript": [
              "download(\"download_8fde3535-be8f-4c32-87bb-0b9bad983a5c\", \"sentiment_results_sample.csv\", 72782)"
            ]
          },
          "metadata": {}
        }
      ]
    }
  ]
}